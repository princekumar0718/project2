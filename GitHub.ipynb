{
 "cells": [
  {
   "cell_type": "markdown",
   "id": "4bfeeb5c",
   "metadata": {},
   "source": [
    "#### 1) Clone Repo"
   ]
  },
  {
   "cell_type": "code",
   "execution_count": null,
   "id": "12836845",
   "metadata": {},
   "outputs": [],
   "source": [
    "git clone url\n",
    "\n",
    "git clone https://github.com/UPEYMI/Project2.git"
   ]
  },
  {
   "cell_type": "code",
   "execution_count": null,
   "id": "b19f2878",
   "metadata": {},
   "outputs": [],
   "source": [
    "2) git status >> to know what is remain for commit"
   ]
  },
  {
   "cell_type": "markdown",
   "id": "0b6743a9",
   "metadata": {},
   "source": [
    "#### 3) How to add"
   ]
  },
  {
   "cell_type": "code",
   "execution_count": null,
   "id": "4fa012db",
   "metadata": {},
   "outputs": [],
   "source": [
    "git add . >> for multiple files\n",
    "git add file_name > for single file"
   ]
  },
  {
   "cell_type": "markdown",
   "id": "24d1cee6",
   "metadata": {},
   "source": [
    "#### 4) commit"
   ]
  },
  {
   "cell_type": "code",
   "execution_count": null,
   "id": "6072fc23",
   "metadata": {},
   "outputs": [],
   "source": [
    "git commit -m \"Message\""
   ]
  },
  {
   "cell_type": "code",
   "execution_count": null,
   "id": "61867653",
   "metadata": {},
   "outputs": [],
   "source": [
    "5) git push origin main \n",
    "git push"
   ]
  },
  {
   "cell_type": "markdown",
   "id": "2e47e0cb",
   "metadata": {},
   "source": []
  },
  {
   "cell_type": "markdown",
   "id": "f895a6de",
   "metadata": {},
   "source": [
    "#### For multiple Branch"
   ]
  },
  {
   "cell_type": "markdown",
   "id": "0e6cffb6",
   "metadata": {},
   "source": [
    "#### 1) Check branches"
   ]
  },
  {
   "cell_type": "code",
   "execution_count": null,
   "id": "c108aae1",
   "metadata": {},
   "outputs": [],
   "source": [
    "git branch"
   ]
  },
  {
   "cell_type": "markdown",
   "id": "b570dc42",
   "metadata": {},
   "source": [
    "#### 2) Create new sub branch"
   ]
  },
  {
   "cell_type": "code",
   "execution_count": null,
   "id": "b480f453",
   "metadata": {},
   "outputs": [],
   "source": [
    "git checkout -b branch_name\n",
    "\n",
    "# example\n",
    "git checkout -b eda\n",
    "git checkout -b feature_engineering\n",
    "git checkout -b outlier\n",
    "git checkout -b feature_selection"
   ]
  },
  {
   "cell_type": "markdown",
   "id": "60ad51fd",
   "metadata": {},
   "source": [
    "#### 3) switch to new branch/sub branch"
   ]
  },
  {
   "cell_type": "code",
   "execution_count": null,
   "id": "e197901e",
   "metadata": {},
   "outputs": [],
   "source": [
    "git checkout branch_name\n",
    "\n",
    "example:\n",
    "    main >> sub_branch\n",
    "    \n",
    "    git checkout eda"
   ]
  },
  {
   "cell_type": "markdown",
   "id": "72bd9034",
   "metadata": {},
   "source": [
    "#### 4) Delete sub_branch"
   ]
  },
  {
   "cell_type": "code",
   "execution_count": null,
   "id": "70d546da",
   "metadata": {},
   "outputs": [],
   "source": [
    "git branch -d sub_branch\n",
    "example\n",
    "git branch -d eda\n",
    "\n",
    "# In case of not fully merge\n",
    ">git branch -D feature_engineering"
   ]
  },
  {
   "cell_type": "code",
   "execution_count": null,
   "id": "561f3cc0",
   "metadata": {},
   "outputs": [],
   "source": []
  },
  {
   "cell_type": "markdown",
   "id": "406fb8c1",
   "metadata": {},
   "source": [
    "#### Pull"
   ]
  },
  {
   "cell_type": "code",
   "execution_count": null,
   "id": "0bbf4f43",
   "metadata": {},
   "outputs": [],
   "source": [
    "git pull origin main"
   ]
  },
  {
   "cell_type": "markdown",
   "id": "1bee73d5",
   "metadata": {},
   "source": [
    "#### .gitignore"
   ]
  },
  {
   "cell_type": "code",
   "execution_count": null,
   "id": "502eceb9",
   "metadata": {},
   "outputs": [],
   "source": [
    "to ignore datafiles\n",
    "# procedure\n",
    "1) open vs code\n",
    "2) crate file\n",
    "example : .gitignore\n",
    "         in file write :\n",
    "            *.csv    # ignore all csv files\n",
    "            *.pdf   \n",
    "            *.json\n",
    "            *.txt  "
   ]
  }
 ],
 "metadata": {
  "kernelspec": {
   "display_name": "Python 3 (ipykernel)",
   "language": "python",
   "name": "python3"
  },
  "language_info": {
   "codemirror_mode": {
    "name": "ipython",
    "version": 3
   },
   "file_extension": ".py",
   "mimetype": "text/x-python",
   "name": "python",
   "nbconvert_exporter": "python",
   "pygments_lexer": "ipython3",
   "version": "3.9.13"
  }
 },
 "nbformat": 4,
 "nbformat_minor": 5
}
